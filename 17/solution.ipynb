{
 "cells": [
  {
   "cell_type": "code",
   "execution_count": 3,
   "metadata": {},
   "outputs": [],
   "source": [
    "import sys, os\n",
    "sys.path.insert(0, os.path.abspath('..'))\n",
    "from utils.util import file2list\n",
    "import numpy as np"
   ]
  },
  {
   "cell_type": "code",
   "execution_count": 35,
   "metadata": {},
   "outputs": [],
   "source": [
    "x1, x2, y1, y2 = (20, 30, -10, -5)"
   ]
  },
  {
   "cell_type": "code",
   "execution_count": 46,
   "metadata": {},
   "outputs": [],
   "source": [
    "x1, x2, y1, y2 = (155, 215, -132, -72)"
   ]
  },
  {
   "cell_type": "code",
   "execution_count": 43,
   "metadata": {},
   "outputs": [],
   "source": [
    "def update(pos, vel):\n",
    "    d = np.array([np.sign(vel[0]) * -1,0])\n",
    "    g = np.array([0,-1])\n",
    "    new_pos = pos + vel\n",
    "    if vel[0] != 0:\n",
    "       new_vel = vel + d + g\n",
    "    else:\n",
    "        new_vel = vel + g\n",
    "    return new_pos, new_vel\n",
    "\n",
    "def valid(vel):\n",
    "    pos = np.array([0,0])\n",
    "    while True:\n",
    "        pos, vel = update(pos, vel)\n",
    "        x,y = pos\n",
    "        if y < y1 or (vel[0] == 0 and (x < x1 or x > x2)):\n",
    "            return False\n",
    "        if (x >= x1 and x <= x2\n",
    "            and y >= y1 and y <= y2):\n",
    "            return True\n",
    "\n"
   ]
  },
  {
   "cell_type": "code",
   "execution_count": 49,
   "metadata": {},
   "outputs": [
    {
     "name": "stdout",
     "output_type": "stream",
     "text": [
      "18 131\n",
      "8646\n"
     ]
    }
   ],
   "source": [
    "max_vel = 200\n",
    "max_y = 0\n",
    "max_y = 0\n",
    "for x_vel in range(0, max_vel):\n",
    "    for y_vel in range(0, max_vel):\n",
    "        if y_vel > max_y and valid((x_vel, y_vel)):\n",
    "            max_y = y_vel\n",
    "            max_x = x_vel\n",
    "        \n",
    "print(max_x, max_y)\n",
    "print(max_y*(max_y+1)//2)"
   ]
  },
  {
   "cell_type": "code",
   "execution_count": 47,
   "metadata": {},
   "outputs": [
    {
     "name": "stdout",
     "output_type": "stream",
     "text": [
      "5945\n"
     ]
    }
   ],
   "source": [
    "max_vel = 300\n",
    "sum_valid = 0\n",
    "for x_vel in range(0, max_vel):\n",
    "    for y_vel in range(-max_vel, max_vel):\n",
    "        if valid((x_vel, y_vel)):\n",
    "            sum_valid += 1\n",
    "\n",
    "print(sum_valid)"
   ]
  }
 ],
 "metadata": {
  "interpreter": {
   "hash": "e7370f93d1d0cde622a1f8e1c04877d8463912d04d973331ad4851f04de6915a"
  },
  "kernelspec": {
   "display_name": "Python 3.9.7 64-bit",
   "name": "python3"
  },
  "language_info": {
   "codemirror_mode": {
    "name": "ipython",
    "version": 3
   },
   "file_extension": ".py",
   "mimetype": "text/x-python",
   "name": "python",
   "nbconvert_exporter": "python",
   "pygments_lexer": "ipython3",
   "version": "3.9.9"
  },
  "orig_nbformat": 4
 },
 "nbformat": 4,
 "nbformat_minor": 2
}
