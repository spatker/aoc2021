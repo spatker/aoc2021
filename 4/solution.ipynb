{
 "cells": [
  {
   "cell_type": "code",
   "execution_count": 1,
   "metadata": {},
   "outputs": [],
   "source": [
    "import sys, os\n",
    "sys.path.insert(0, os.path.abspath('..'))\n",
    "from utils.util import file2list\n",
    "import numpy as np"
   ]
  },
  {
   "cell_type": "code",
   "execution_count": 3,
   "metadata": {},
   "outputs": [],
   "source": [
    "def parse_board(l, start, end):\n",
    "    ret = np.zeros((5,5), dtype=int)\n",
    "    for i in range(start, end):\n",
    "        ret[i-start] = [int(x) for x in l[i].split()]\n",
    "    return ret\n",
    "\n",
    "def result(board, hit, winning_num):\n",
    "    winning_board = np.ma.array(board, mask=hit)\n",
    "    sum = winning_board.sum()\n",
    "    return winning_num*sum\n"
   ]
  },
  {
   "cell_type": "code",
   "execution_count": 4,
   "metadata": {},
   "outputs": [
    {
     "name": "stdout",
     "output_type": "stream",
     "text": [
      "39984\n"
     ]
    }
   ],
   "source": [
    "l = file2list(\"./input.txt\")\n",
    "nums = [int(x) for x in l[0].split(\",\")]\n",
    "\n",
    "boards = []\n",
    "for i in range(2, len(l), 6):\n",
    "    boards.append(parse_board(l, i, i+5))\n",
    "\n",
    "boards = np.array(boards)\n",
    "\n",
    "hits = np.array([np.zeros((5,5), dtype=bool)]*len(boards))\n",
    "for i in nums:\n",
    "    hits = np.where(boards == i, hits + 1, hits)\n",
    "    if hits.all(axis=1).any() or hits.all(axis=2).any():\n",
    "        winning_num = i\n",
    "        winning_board_idx = np.where((hits.all(axis=2).any(axis=1) + hits.all(axis=1).any(axis=1)) == True)[0][0]\n",
    "        print(result(boards[winning_board_idx], hits[winning_board_idx], winning_num))\n",
    "        break"
   ]
  },
  {
   "cell_type": "code",
   "execution_count": 5,
   "metadata": {},
   "outputs": [
    {
     "name": "stdout",
     "output_type": "stream",
     "text": [
      "8468\n"
     ]
    }
   ],
   "source": [
    "hits = np.array([np.zeros((5,5), dtype=bool)]*len(boards))\n",
    "for i in nums:\n",
    "    has_winned = np.ma.masked_where((hits.all(axis=2).any(axis=1) + hits.all(axis=1).any(axis=1)) == True, np.arange(len(boards)))\n",
    "    hits = np.where(boards == i, hits + 1, hits)\n",
    "    if ((hits.all(axis=2) + hits.all(axis=1)).any(axis=1).all()):\n",
    "        last_board_idx = has_winned[~has_winned.mask]\n",
    "        last_num = i\n",
    "        print(result(boards[last_board_idx], hits[last_board_idx], last_num))\n",
    "        break"
   ]
  }
 ],
 "metadata": {
  "interpreter": {
   "hash": "e7370f93d1d0cde622a1f8e1c04877d8463912d04d973331ad4851f04de6915a"
  },
  "kernelspec": {
   "display_name": "Python 3.9.7 64-bit",
   "name": "python3"
  },
  "language_info": {
   "codemirror_mode": {
    "name": "ipython",
    "version": 3
   },
   "file_extension": ".py",
   "mimetype": "text/x-python",
   "name": "python",
   "nbconvert_exporter": "python",
   "pygments_lexer": "ipython3",
   "version": "3.9.7"
  },
  "orig_nbformat": 4
 },
 "nbformat": 4,
 "nbformat_minor": 2
}
