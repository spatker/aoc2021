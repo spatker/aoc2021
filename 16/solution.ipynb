{
 "cells": [
  {
   "cell_type": "code",
   "execution_count": 54,
   "metadata": {},
   "outputs": [],
   "source": [
    "import sys, os\n",
    "sys.path.insert(0, os.path.abspath('..'))\n",
    "from utils.util import file2list\n",
    "import numpy as np"
   ]
  },
  {
   "cell_type": "code",
   "execution_count": 17,
   "metadata": {},
   "outputs": [],
   "source": [
    "def to_bits(s):\n",
    "    i = int(s, 16)\n",
    "    h_size = len(s) * 4\n",
    "    return bin(i)[2:].zfill(h_size)"
   ]
  },
  {
   "cell_type": "code",
   "execution_count": 50,
   "metadata": {},
   "outputs": [],
   "source": [
    "class op_packet:\n",
    "    def __init__(self, version, p_type):\n",
    "        self.version = version\n",
    "        self.p_type = p_type\n",
    "        self.packets = []\n",
    "    def __str__(self):\n",
    "        s = \"op|ver: {.version}, [\".format(self)\n",
    "        for p in self.packets:\n",
    "            s = s + str(p) + \", \"\n",
    "        s += \"]|\"\n",
    "        return s\n",
    "\n",
    "class literal_packet:\n",
    "    def __init__(self, version, value):\n",
    "        self.version = version\n",
    "        self.value = value\n",
    "    def __str__(self):\n",
    "        return \"l|ver: {.version}, val: {.value}|\".format(self, self)"
   ]
  },
  {
   "cell_type": "code",
   "execution_count": 48,
   "metadata": {},
   "outputs": [],
   "source": [
    "def parse_literal(p, version):\n",
    "    val = 0\n",
    "    i = 0\n",
    "    while p[i] != '0':\n",
    "        literal = int(p[i+1:i+5], 2)\n",
    "        val += literal\n",
    "        val*=16\n",
    "        i += 5\n",
    "    literal = int(p[i+1:i+5], 2)\n",
    "    val += literal\n",
    "    return literal_packet(version, val), i+5\n",
    "\n",
    "def parse(p):\n",
    "    v = int(p[0:3], 2)\n",
    "    t = int(p[3:6], 2)\n",
    "    i = 6\n",
    "    if t == 4: # literal\n",
    "        lit, end_p =  parse_literal(p[i:], v)\n",
    "        return (lit, end_p + i)\n",
    "    else: # operator\n",
    "        lt = p[i]\n",
    "        i+=1\n",
    "        if lt == '0': # 15 bit subpacket length\n",
    "            length = int(p[i:i+15], 2)\n",
    "            i += 15\n",
    "            root = op_packet(v, t)\n",
    "            parsed_length = 0\n",
    "            while parsed_length < length:\n",
    "                new_packet, end_p = parse(p[i:])\n",
    "                root.packets.append(new_packet)\n",
    "                parsed_length += end_p\n",
    "                i+= end_p\n",
    "            return root, i\n",
    "        else: # 11 bit number of packets\n",
    "            num = int(p[i:i+11], 2)\n",
    "            i += 11\n",
    "            root = op_packet(v, t)\n",
    "            current_packet = 0\n",
    "            while current_packet != num:\n",
    "                new_packet, end_p = parse(p[i:])\n",
    "                root.packets.append(new_packet)\n",
    "                i += end_p\n",
    "                current_packet += 1\n",
    "            return root, i"
   ]
  },
  {
   "cell_type": "code",
   "execution_count": 45,
   "metadata": {},
   "outputs": [],
   "source": [
    "def sum_version(rp):\n",
    "    if type(rp) is literal_packet:\n",
    "        return rp.version\n",
    "    else:\n",
    "        ret = 0\n",
    "        for p in rp.packets:\n",
    "            ret += sum_version(p)\n",
    "        return ret + rp.version"
   ]
  },
  {
   "cell_type": "code",
   "execution_count": 55,
   "metadata": {},
   "outputs": [],
   "source": [
    "def calc_value(rp):\n",
    "    if type(rp) is literal_packet:\n",
    "        return rp.value\n",
    "    else:\n",
    "        t = rp.p_type\n",
    "        if t == 5: # gt\n",
    "            return calc_value(rp.packets[0]) > calc_value(rp.packets[1])\n",
    "        elif t == 6: # lt\n",
    "            return calc_value(rp.packets[0]) < calc_value(rp.packets[1])\n",
    "        elif t == 7: # eq\n",
    "            return calc_value(rp.packets[0]) == calc_value(rp.packets[1])\n",
    "        \n",
    "        values = []\n",
    "        for p in rp.packets:\n",
    "            values.append(calc_value(p))\n",
    "        if t == 0: # sum\n",
    "            return sum(values)\n",
    "        elif t == 1: # product\n",
    "            return np.prod(values)\n",
    "        elif t == 2: # min\n",
    "            return min(values)\n",
    "        elif t == 3: # max\n",
    "            return max(values)"
   ]
  },
  {
   "cell_type": "code",
   "execution_count": 56,
   "metadata": {},
   "outputs": [
    {
     "name": "stdout",
     "output_type": "stream",
     "text": [
      "version sum :999\n",
      "version sum :3408662834145\n"
     ]
    }
   ],
   "source": [
    "l = file2list(\"./input.txt\")[0]\n",
    "bits = to_bits(l)\n",
    "root, end = parse(bits)\n",
    "#print(str(root), end)\n",
    "print(\"version sum :{}\".format(sum_version(root)))\n",
    "print(\"value :{}\".format(calc_value(root)))\n"
   ]
  }
 ],
 "metadata": {
  "interpreter": {
   "hash": "e7370f93d1d0cde622a1f8e1c04877d8463912d04d973331ad4851f04de6915a"
  },
  "kernelspec": {
   "display_name": "Python 3.9.7 64-bit",
   "name": "python3"
  },
  "language_info": {
   "codemirror_mode": {
    "name": "ipython",
    "version": 3
   },
   "file_extension": ".py",
   "mimetype": "text/x-python",
   "name": "python",
   "nbconvert_exporter": "python",
   "pygments_lexer": "ipython3",
   "version": "3.9.9"
  },
  "orig_nbformat": 4
 },
 "nbformat": 4,
 "nbformat_minor": 2
}
