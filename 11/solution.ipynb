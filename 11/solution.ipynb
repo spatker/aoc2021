{
 "cells": [
  {
   "cell_type": "code",
   "execution_count": 2,
   "metadata": {},
   "outputs": [],
   "source": [
    "import sys, os\n",
    "sys.path.insert(0, os.path.abspath('..'))\n",
    "from utils.util import file2list\n",
    "import numpy as np"
   ]
  },
  {
   "cell_type": "code",
   "execution_count": 172,
   "metadata": {},
   "outputs": [],
   "source": [
    "l = file2list(\"./input.txt\")\n",
    "rows = len(l)\n",
    "cols = len(l[0])\n",
    "f = np.zeros((rows, cols), dtype=int)\n",
    "for i in range(0,rows):\n",
    "    row = [int(x) for x in l[i]]\n",
    "    f[i, :] = row"
   ]
  },
  {
   "cell_type": "code",
   "execution_count": 160,
   "metadata": {},
   "outputs": [],
   "source": [
    "def get_adjacent(p):\n",
    "    i = p[0]\n",
    "    j = p[1]\n",
    "    up      = (i-1,j)\n",
    "    right   = (i,j+1)\n",
    "    down    = (i+1,j)\n",
    "    left    = (i,j-1)\n",
    "    adj1    = (i-1,j+1)\n",
    "    adj2    = (i-1,j-1)\n",
    "    adj3    = (i+1,j+1)\n",
    "    adj4    = (i+1,j-1)\n",
    "    return [up, right, down, left, adj1, adj2, adj3, adj4]"
   ]
  },
  {
   "cell_type": "code",
   "execution_count": 161,
   "metadata": {},
   "outputs": [],
   "source": [
    "def flash(ff, p):\n",
    "    adj = get_adjacent(p)\n",
    "    for a in adj:\n",
    "        if ff[a] >= 0:\n",
    "            ff[a] += 1"
   ]
  },
  {
   "cell_type": "code",
   "execution_count": 168,
   "metadata": {},
   "outputs": [],
   "source": [
    "def one_step(ff):\n",
    "    ff += 1\n",
    "    sum = 0\n",
    "    while( (ff > 9).any()):\n",
    "        fp = np.pad(ff, (1,1), 'constant', constant_values=0)\n",
    "        x,y = np.where(fp > 9)\n",
    "        fp[fp > 9 ] = -1\n",
    "        for p in zip(x,y):\n",
    "            flash(fp, p)\n",
    "            sum += 1\n",
    "        ff = fp[1:-1, 1:-1]\n",
    "    ff[ff < 0 ] = 0\n",
    "    return ff, sum"
   ]
  },
  {
   "cell_type": "code",
   "execution_count": 173,
   "metadata": {},
   "outputs": [
    {
     "data": {
      "text/plain": [
       "1585"
      ]
     },
     "execution_count": 173,
     "metadata": {},
     "output_type": "execute_result"
    }
   ],
   "source": [
    "f0 = np.copy(f)\n",
    "ans = 0\n",
    "for i in range(0,100):\n",
    "    f0, sum = one_step(f0)\n",
    "    ans += sum\n",
    "ans"
   ]
  },
  {
   "cell_type": "code",
   "execution_count": 174,
   "metadata": {},
   "outputs": [
    {
     "data": {
      "text/plain": [
       "382"
      ]
     },
     "execution_count": 174,
     "metadata": {},
     "output_type": "execute_result"
    }
   ],
   "source": [
    "ans2 = 0\n",
    "f0 = np.copy(f)\n",
    "while (not (f0 == 0).all()):\n",
    "    f0, sum = one_step(f0)\n",
    "    ans2 += 1\n",
    "ans2"
   ]
  }
 ],
 "metadata": {
  "interpreter": {
   "hash": "e7370f93d1d0cde622a1f8e1c04877d8463912d04d973331ad4851f04de6915a"
  },
  "kernelspec": {
   "display_name": "Python 3.9.7 64-bit",
   "name": "python3"
  },
  "language_info": {
   "codemirror_mode": {
    "name": "ipython",
    "version": 3
   },
   "file_extension": ".py",
   "mimetype": "text/x-python",
   "name": "python",
   "nbconvert_exporter": "python",
   "pygments_lexer": "ipython3",
   "version": "3.9.7"
  },
  "orig_nbformat": 4
 },
 "nbformat": 4,
 "nbformat_minor": 2
}
