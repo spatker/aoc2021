{
 "cells": [
  {
   "cell_type": "code",
   "execution_count": 38,
   "metadata": {},
   "outputs": [],
   "source": [
    "import sys, os\n",
    "sys.path.insert(0, os.path.abspath('..'))\n",
    "from utils.util import file2list\n",
    "import numpy as np\n",
    "import math\n",
    "from copy import deepcopy"
   ]
  },
  {
   "cell_type": "code",
   "execution_count": 39,
   "metadata": {},
   "outputs": [],
   "source": [
    "class node:\n",
    "    def __init__(self, p = None, l = None, r = None):\n",
    "        self.p = p\n",
    "        self.l = l\n",
    "        self.r = r\n",
    "class vnode:\n",
    "    def __init__(self, p, v):\n",
    "        self.p = p\n",
    "        self.v = v\n",
    "    \n",
    "\n",
    "def str_node(root):\n",
    "    if type(root) == vnode: return str(root.v)\n",
    "    return \"[{},{}]\".format(str_node(root.l), str_node(root.r))\n",
    "\n",
    "def parse(n,p):\n",
    "    if len(n) == 1:\n",
    "        return vnode(p, int(n))\n",
    "    level = 0\n",
    "    for i,c in enumerate(n):\n",
    "        if c == '[':\n",
    "            level += 1\n",
    "        elif c == ']':\n",
    "            level -= 1\n",
    "        elif c == ',' and level == 1:\n",
    "            current = node(p)\n",
    "            current.l = parse(n[1:i], current)\n",
    "            current.r = parse(n[i+1:-1], current)\n",
    "            return current\n",
    "\n",
    "def add_right(s, v):\n",
    "    c = s\n",
    "    p = c.p\n",
    "    while p.p and p.r == c:\n",
    "        c = p\n",
    "        p = c.p\n",
    "    if p.p == None and p.r == c: return\n",
    "    c = p.r\n",
    "    while type(c) != vnode:\n",
    "        c = c.l\n",
    "    c.v += v\n",
    "        \n",
    "\n",
    "def add_left(s, v):\n",
    "    c = s\n",
    "    p = c.p\n",
    "    while p.p and p.l == c:\n",
    "        c = p\n",
    "        p = c.p\n",
    "    if p.p == None and p.l == c: return\n",
    "    c = p.l\n",
    "    while type(c) != vnode:\n",
    "        c = c.r\n",
    "    c.v += v\n",
    "\n",
    "exploded_flag = False\n",
    "def explode(n, level=0):\n",
    "    if type(n) == vnode: return\n",
    "    global exploded_flag\n",
    "    if (level >= 4 and type(n) == node and\n",
    "        type(n.l) == vnode and type(n.r) == vnode):\n",
    "        p1 = n.l.v\n",
    "        p2 = n.r.v\n",
    "        add_right(n, p2)\n",
    "        add_left(n, p1)\n",
    "        new_n = vnode(n.p, 0)\n",
    "        if n.p.l == n: n.p.l = new_n\n",
    "        else: n.p.r = new_n\n",
    "        exploded_flag = True\n",
    "        return\n",
    "    if not exploded_flag: explode(n.l, level+1)\n",
    "    if not exploded_flag: explode(n.r, level+1)\n",
    "\n",
    "split_flag = False\n",
    "def split(n):\n",
    "    global split_flag\n",
    "    if type(n) == vnode:\n",
    "        if n.v >= 10:\n",
    "            p = n.p\n",
    "            p1 = math.floor(n.v/2)\n",
    "            p2 = math.ceil(n.v/2)\n",
    "            new_n = node(p)\n",
    "            new_n.l = vnode(new_n, p1)\n",
    "            new_n.r = vnode(new_n, p2)\n",
    "            if n.p.l == n: n.p.l = new_n\n",
    "            else: n.p.r = new_n\n",
    "            split_flag = True\n",
    "        return\n",
    "    if not split_flag: split(n.l)\n",
    "    if not split_flag: split(n.r)\n",
    "\n",
    "def norm(n):\n",
    "    global exploded_flag\n",
    "    global split_flag\n",
    "    while True:\n",
    "        exploded_flag = False\n",
    "        split_flag = False\n",
    "        explode(n)\n",
    "        if exploded_flag:\n",
    "            continue\n",
    "        split(n)\n",
    "        if not exploded_flag and not split_flag: break\n",
    "    return n\n",
    "\n",
    "def add(n1, n2):\n",
    "    n = node(None, n1, n2)\n",
    "    n1.p = n\n",
    "    n2.p = n\n",
    "    return norm(n)\n",
    "\n",
    "def magn(n):\n",
    "    if type(n) == vnode: return n.v\n",
    "    return 3*magn(n.l) + 2*magn(n.r)\n"
   ]
  },
  {
   "cell_type": "code",
   "execution_count": 46,
   "metadata": {},
   "outputs": [
    {
     "name": "stdout",
     "output_type": "stream",
     "text": [
      "[[[[7,7],[8,8]],[[8,9],[7,8]]],[[[6,7],[0,8]],[8,8]]]\n",
      "3793\n"
     ]
    }
   ],
   "source": [
    "numbers = file2list(\"./input.txt\")\n",
    "res = parse(numbers[0], None)\n",
    "for i in range(1, len(numbers)):\n",
    "    n = parse(numbers[i], None)\n",
    "    res = add(res, n)\n",
    "print(str_node(res))\n",
    "print(magn(res))"
   ]
  },
  {
   "cell_type": "code",
   "execution_count": 49,
   "metadata": {},
   "outputs": [
    {
     "name": "stdout",
     "output_type": "stream",
     "text": [
      "4695\n"
     ]
    }
   ],
   "source": [
    "numbers = file2list(\"./input.txt\")\n",
    "sum = 0\n",
    "for i in range(0, len(numbers)):\n",
    "    for j in range(0, len(numbers)):\n",
    "        if i == j: continue\n",
    "        i_n = parse(numbers[i], None)\n",
    "        j_n = parse(numbers[j], None)\n",
    "        sum_n = magn(add(i_n, j_n))\n",
    "        if sum_n > sum: sum = sum_n\n",
    "print(sum)"
   ]
  }
 ],
 "metadata": {
  "interpreter": {
   "hash": "e7370f93d1d0cde622a1f8e1c04877d8463912d04d973331ad4851f04de6915a"
  },
  "kernelspec": {
   "display_name": "Python 3.9.7 64-bit",
   "name": "python3"
  },
  "language_info": {
   "codemirror_mode": {
    "name": "ipython",
    "version": 3
   },
   "file_extension": ".py",
   "mimetype": "text/x-python",
   "name": "python",
   "nbconvert_exporter": "python",
   "pygments_lexer": "ipython3",
   "version": "3.9.9"
  },
  "orig_nbformat": 4
 },
 "nbformat": 4,
 "nbformat_minor": 2
}
