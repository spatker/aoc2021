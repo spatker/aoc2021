{
 "cells": [
  {
   "cell_type": "code",
   "execution_count": 1,
   "metadata": {},
   "outputs": [],
   "source": [
    "import sys, os\n",
    "sys.path.insert(0, os.path.abspath('..'))\n",
    "from utils.util import file2list"
   ]
  },
  {
   "cell_type": "code",
   "execution_count": 10,
   "metadata": {},
   "outputs": [
    {
     "name": "stdout",
     "output_type": "stream",
     "text": [
      "1675781200288\n"
     ]
    }
   ],
   "source": [
    "l = file2list(\"./input.txt\")[0].split(\",\")\n",
    "l = [int(x) for x in l]\n",
    "fishes = [0]*9\n",
    "for i in l:\n",
    "    fishes[i] += 1\n",
    "for i in range(0,256):\n",
    "    new_fishes = fishes[1:]\n",
    "    new_fishes.append(fishes[0])\n",
    "    new_fishes[6] += fishes[0]\n",
    "    fishes = new_fishes\n",
    "\n",
    "print(sum(fishes))"
   ]
  }
 ],
 "metadata": {
  "interpreter": {
   "hash": "e7370f93d1d0cde622a1f8e1c04877d8463912d04d973331ad4851f04de6915a"
  },
  "kernelspec": {
   "display_name": "Python 3.9.7 64-bit",
   "name": "python3"
  },
  "language_info": {
   "codemirror_mode": {
    "name": "ipython",
    "version": 3
   },
   "file_extension": ".py",
   "mimetype": "text/x-python",
   "name": "python",
   "nbconvert_exporter": "python",
   "pygments_lexer": "ipython3",
   "version": "3.9.7"
  },
  "orig_nbformat": 4
 },
 "nbformat": 4,
 "nbformat_minor": 2
}
