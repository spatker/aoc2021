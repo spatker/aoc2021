{
 "cells": [
  {
   "cell_type": "code",
   "execution_count": 1,
   "metadata": {},
   "outputs": [],
   "source": [
    "import sys, os\n",
    "sys.path.insert(0, os.path.abspath('..'))\n",
    "from utils.util import file2list"
   ]
  },
  {
   "cell_type": "code",
   "execution_count": 12,
   "metadata": {},
   "outputs": [
    {
     "data": {
      "text/plain": [
       "310"
      ]
     },
     "execution_count": 12,
     "metadata": {},
     "output_type": "execute_result"
    }
   ],
   "source": [
    "l = file2list(\"./input.txt\")\n",
    "count = 0\n",
    "for line in l:\n",
    "    digits = line.split(\" | \")[1].split()\n",
    "    for d in digits:\n",
    "        count += (len(d) == 2 or len(d) == 3 or len(d) == 4 or len(d) == 7)\n",
    "count"
   ]
  },
  {
   "cell_type": "markdown",
   "metadata": {},
   "source": [
    "length 2 => 1\n",
    "length 3 => 7\n",
    "length 4 => 4\n",
    "length 6 => 0, 6, 9\n",
    "    if same as 4: 9\n",
    "    else if same as 1: 0\n",
    "    else 6\n",
    "length 5 => 2, 3, 5\n",
    "    if same as 7: 3\n",
    "    else if only 1 diff from 6: 5\n",
    "    else: 2\n",
    "length 7 => 8"
   ]
  },
  {
   "cell_type": "code",
   "execution_count": 30,
   "metadata": {},
   "outputs": [
    {
     "data": {
      "text/plain": [
       "915941"
      ]
     },
     "execution_count": 30,
     "metadata": {},
     "output_type": "execute_result"
    }
   ],
   "source": [
    "l = file2list(\"./input.txt\")\n",
    "count = 0\n",
    "for line in l:\n",
    "    digits = line.split(\" | \")[1].split()\n",
    "    examples = line.split(\" | \")[0].split()\n",
    "    mapping = {}\n",
    "    #step1\n",
    "    for d in examples:\n",
    "        if len(d) == 2:     mapping.update({ 1: set(d)})\n",
    "        elif len(d) == 3:   mapping.update({ 7: set(d)})\n",
    "        elif len(d) == 4:   mapping.update({ 4: set(d)})\n",
    "        elif len(d) == 7:   mapping.update({ 8: set(d)})\n",
    "    #step2\n",
    "    for d in examples:\n",
    "        if len(d) == 6:\n",
    "            s = set(d)\n",
    "            if len(set.intersection(s, mapping[4])) == 4 : mapping.update({9 : s})\n",
    "            elif len(set.intersection(s, mapping[1])) == 2 : mapping.update({0 : s})\n",
    "            else : mapping.update({6 : s})\n",
    "    #step3\n",
    "    for d in examples:\n",
    "        if len(d) == 5:\n",
    "            s = set(d)\n",
    "            if len(set.intersection(s, mapping[7])) == 3 : mapping.update({3 : s})\n",
    "            elif len(set.intersection(s, mapping[6])) == 5 : mapping.update({5 : s})\n",
    "            else : mapping.update({2 : s})\n",
    "    #step4\n",
    "    res = 0\n",
    "    mult = 1000\n",
    "    for d in digits:\n",
    "        s = set(d)\n",
    "        for k,v in mapping.items():\n",
    "            if len(v) == len(s) and len(set.intersection(v,s)) == len(s):\n",
    "                digit = k\n",
    "                break\n",
    "        res += mult*digit\n",
    "        mult //= 10\n",
    "    count += res\n",
    "count"
   ]
  }
 ],
 "metadata": {
  "interpreter": {
   "hash": "e7370f93d1d0cde622a1f8e1c04877d8463912d04d973331ad4851f04de6915a"
  },
  "kernelspec": {
   "display_name": "Python 3.9.7 64-bit",
   "name": "python3"
  },
  "language_info": {
   "codemirror_mode": {
    "name": "ipython",
    "version": 3
   },
   "file_extension": ".py",
   "mimetype": "text/x-python",
   "name": "python",
   "nbconvert_exporter": "python",
   "pygments_lexer": "ipython3",
   "version": "3.9.7"
  },
  "orig_nbformat": 4
 },
 "nbformat": 4,
 "nbformat_minor": 2
}
