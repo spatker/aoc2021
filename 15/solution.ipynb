{
 "cells": [
  {
   "cell_type": "code",
   "execution_count": 67,
   "metadata": {},
   "outputs": [],
   "source": [
    "import sys, os\n",
    "sys.path.insert(0, os.path.abspath('..'))\n",
    "from utils.util import file2list\n",
    "import numpy as np\n",
    "import networkx as nx"
   ]
  },
  {
   "cell_type": "code",
   "execution_count": 110,
   "metadata": {},
   "outputs": [],
   "source": [
    "l = file2list(\"./input.txt\")\n",
    "rows = len(l)\n",
    "cols = len(l[0])\n",
    "f = np.zeros((rows, cols), dtype=int)\n",
    "for i in range(0,rows):\n",
    "    row = [int(x) for x in l[i]]\n",
    "    f[i, :] = row"
   ]
  },
  {
   "cell_type": "code",
   "execution_count": 86,
   "metadata": {},
   "outputs": [],
   "source": [
    "def find_shortest(m):\n",
    "    r, c = m.shape\n",
    "    G = nx.DiGraph()\n",
    "    for (x,y), value in np.ndenumerate(m):\n",
    "        G.add_node((x,y))\n",
    "        G.add_edge((x,y), (x+1, y+0), weight=value)\n",
    "        G.add_edge((x,y), (x-1, y+0), weight=value)\n",
    "        G.add_edge((x,y), (x+0, y+1), weight=value)\n",
    "        G.add_edge((x,y), (x+0, y-1), weight=value)\n",
    "    start_n = (0,0)\n",
    "    end_n = (r-1,c-1)\n",
    "    length = nx.shortest_path_length(G,start_n, end_n, 'weight') - m[start_n] + m[end_n]\n",
    "    return length"
   ]
  },
  {
   "cell_type": "code",
   "execution_count": 87,
   "metadata": {},
   "outputs": [
    {
     "data": {
      "text/plain": [
       "769"
      ]
     },
     "execution_count": 87,
     "metadata": {},
     "output_type": "execute_result"
    }
   ],
   "source": [
    "find_shortest(f)\n"
   ]
  },
  {
   "cell_type": "code",
   "execution_count": 111,
   "metadata": {},
   "outputs": [
    {
     "data": {
      "text/plain": [
       "2963"
      ]
     },
     "execution_count": 111,
     "metadata": {},
     "output_type": "execute_result"
    }
   ],
   "source": [
    "rows2 = rows*5\n",
    "cols2 = cols*5\n",
    "f2 = np.zeros((rows2, cols2), dtype=int)\n",
    "for i in range(0, 5):\n",
    "    f2[0:rows, i*cols:cols*(i+1)] = ((f+i))\n",
    "for i in range(1, 5):\n",
    "    f2[i*rows:rows*(i+1), :] = ((f2[0:rows,:]+i))\n",
    "f2[f2 > 9] = (f2[f2 > 9]%10)+1\n",
    "find_shortest(f2)"
   ]
  }
 ],
 "metadata": {
  "interpreter": {
   "hash": "e7370f93d1d0cde622a1f8e1c04877d8463912d04d973331ad4851f04de6915a"
  },
  "kernelspec": {
   "display_name": "Python 3.9.7 64-bit",
   "name": "python3"
  },
  "language_info": {
   "codemirror_mode": {
    "name": "ipython",
    "version": 3
   },
   "file_extension": ".py",
   "mimetype": "text/x-python",
   "name": "python",
   "nbconvert_exporter": "python",
   "pygments_lexer": "ipython3",
   "version": "3.9.9"
  },
  "orig_nbformat": 4
 },
 "nbformat": 4,
 "nbformat_minor": 2
}
