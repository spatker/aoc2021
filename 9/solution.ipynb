{
 "cells": [
  {
   "cell_type": "code",
   "execution_count": 1,
   "metadata": {},
   "outputs": [],
   "source": [
    "import sys, os\n",
    "sys.path.insert(0, os.path.abspath('..'))\n",
    "from utils.util import file2list\n",
    "import numpy as np"
   ]
  },
  {
   "cell_type": "code",
   "execution_count": 30,
   "metadata": {},
   "outputs": [],
   "source": [
    "l = file2list(\"./input.txt\")\n",
    "rows = len(l)\n",
    "cols = len(l[0])\n",
    "iter_rows = range(1,rows+1)\n",
    "iter_cols = range(1, cols+1)\n",
    "f = np.zeros((rows+2, cols+2), dtype=int)\n",
    "f[:,:] = 9\n",
    "for i in iter_rows:\n",
    "    row = [int(x) for x in l[i-1]]\n",
    "    f[i, 1:-1] = row"
   ]
  },
  {
   "cell_type": "code",
   "execution_count": 48,
   "metadata": {},
   "outputs": [],
   "source": [
    "def get_adjacent(p):\n",
    "    i = p[0]\n",
    "    j = p[1]\n",
    "    up      = (i-1,j)\n",
    "    right   = (i,j+1)\n",
    "    down    = (i+1,j)\n",
    "    left    = (i,j-1)\n",
    "    return [up, right, down, left]"
   ]
  },
  {
   "cell_type": "code",
   "execution_count": 49,
   "metadata": {},
   "outputs": [
    {
     "data": {
      "text/plain": [
       "518"
      ]
     },
     "execution_count": 49,
     "metadata": {},
     "output_type": "execute_result"
    }
   ],
   "source": [
    "sum = 0\n",
    "low_pts = []\n",
    "for i in iter_rows:\n",
    "    for j in iter_cols:\n",
    "        mid = f[i,j]\n",
    "        adj = get_adjacent((i,j))\n",
    "        vals = [f[p] for p in adj]\n",
    "        if min(vals) > mid:\n",
    "            low_pts.append((i,j))\n",
    "            sum += mid+1\n",
    "sum"
   ]
  },
  {
   "cell_type": "code",
   "execution_count": 61,
   "metadata": {},
   "outputs": [
    {
     "data": {
      "text/plain": [
       "949905"
      ]
     },
     "execution_count": 61,
     "metadata": {},
     "output_type": "execute_result"
    }
   ],
   "source": [
    "areas = np.zeros((rows+2, cols+2), dtype=int)\n",
    "areas[:,:] = 9\n",
    "areas[1:rows,1:cols] = 0\n",
    "for i,sink in enumerate(low_pts):\n",
    "    adj=[sink]\n",
    "    while len(adj) > 0:\n",
    "        new_adj = []\n",
    "        for p in adj:\n",
    "            areas[p] = i+10\n",
    "            new_adj += [x for x in get_adjacent(p) if f[x] != 9 and areas[x] != i+10]\n",
    "        adj = new_adj\n",
    "basins = []\n",
    "for i in range(10, len(low_pts) + 10):\n",
    "    basins.append(np.count_nonzero(areas == i))\n",
    "basins.sort()\n",
    "basins[-1]*basins[-2]*basins[-3]"
   ]
  }
 ],
 "metadata": {
  "interpreter": {
   "hash": "e7370f93d1d0cde622a1f8e1c04877d8463912d04d973331ad4851f04de6915a"
  },
  "kernelspec": {
   "display_name": "Python 3.9.7 64-bit",
   "name": "python3"
  },
  "language_info": {
   "codemirror_mode": {
    "name": "ipython",
    "version": 3
   },
   "file_extension": ".py",
   "mimetype": "text/x-python",
   "name": "python",
   "nbconvert_exporter": "python",
   "pygments_lexer": "ipython3",
   "version": "3.9.7"
  },
  "orig_nbformat": 4
 },
 "nbformat": 4,
 "nbformat_minor": 2
}
