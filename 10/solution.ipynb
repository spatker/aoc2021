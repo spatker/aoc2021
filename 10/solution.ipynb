{
 "cells": [
  {
   "cell_type": "code",
   "execution_count": 1,
   "metadata": {},
   "outputs": [],
   "source": [
    "import sys, os\n",
    "sys.path.insert(0, os.path.abspath('..'))\n",
    "from utils.util import file2list\n",
    "from collections import Counter"
   ]
  },
  {
   "cell_type": "code",
   "execution_count": 18,
   "metadata": {},
   "outputs": [],
   "source": [
    "l = file2list(\"./input.txt\")\n",
    "syntax_values = {'}' : 1197, ']' : 57, '>' : 25137, ')' : 3}\n",
    "syntax_values2 = {'{' : 3, '[' : 2, '<' : 4, '(' : 1}"
   ]
  },
  {
   "cell_type": "code",
   "execution_count": 19,
   "metadata": {},
   "outputs": [
    {
     "name": "stdout",
     "output_type": "stream",
     "text": [
      "442131\n",
      "3646451424\n"
     ]
    }
   ],
   "source": [
    "sum = 0\n",
    "sums2 = []\n",
    "for line in l:\n",
    "    while ( '[]' in line or\n",
    "            '{}' in line or\n",
    "            '<>' in line or\n",
    "            '()' in line):\n",
    "        line = line.replace(\"[]\", \"\")\n",
    "        line = line.replace(\"{}\", \"\")\n",
    "        line = line.replace(\"<>\", \"\")\n",
    "        line = line.replace(\"()\", \"\")\n",
    "    pos = {'}' : float('inf'), ']' : float('inf'), '>' : float('inf'), ')' : float('inf')}\n",
    "    for k, _ in pos.items():\n",
    "        if k in line:\n",
    "            pos[k] = line.find(k)\n",
    "    bad = min(pos.items(), key=lambda x: x[1])\n",
    "    if bad[1] < float('inf'):\n",
    "        sum += syntax_values[bad[0]]\n",
    "    else:\n",
    "        sum2 = 0\n",
    "        for e in reversed(line):\n",
    "            sum2 *= 5\n",
    "            sum2 += syntax_values2[e]\n",
    "        sums2.append(sum2)\n",
    "\n",
    "print(sum)\n",
    "print(sorted(sums2)[len(sums2)//2])"
   ]
  }
 ],
 "metadata": {
  "interpreter": {
   "hash": "e7370f93d1d0cde622a1f8e1c04877d8463912d04d973331ad4851f04de6915a"
  },
  "kernelspec": {
   "display_name": "Python 3.9.7 64-bit",
   "name": "python3"
  },
  "language_info": {
   "codemirror_mode": {
    "name": "ipython",
    "version": 3
   },
   "file_extension": ".py",
   "mimetype": "text/x-python",
   "name": "python",
   "nbconvert_exporter": "python",
   "pygments_lexer": "ipython3",
   "version": "3.9.7"
  },
  "orig_nbformat": 4
 },
 "nbformat": 4,
 "nbformat_minor": 2
}
