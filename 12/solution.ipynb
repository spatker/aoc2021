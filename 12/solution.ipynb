{
 "cells": [
  {
   "cell_type": "code",
   "execution_count": 122,
   "metadata": {},
   "outputs": [],
   "source": [
    "import sys, os\n",
    "sys.path.insert(0, os.path.abspath('..'))\n",
    "from utils.util import file2list\n",
    "from copy import deepcopy"
   ]
  },
  {
   "cell_type": "code",
   "execution_count": 323,
   "metadata": {},
   "outputs": [],
   "source": [
    "class node:\n",
    "    def __init__(self, name):\n",
    "        self.name = name\n",
    "        self.neighbours = set()\n",
    "\n",
    "    def add_neighbour(self, n):\n",
    "        self.neighbours.add(n)\n",
    "        n.neighbours.add(self)\n",
    "    \n",
    "    def traverese(self, visited, path, sum):\n",
    "        if self.name == \"end\":\n",
    "            #print(path + \"end\")\n",
    "            return 1\n",
    "        if self.name in visited:\n",
    "            return 0\n",
    "        if self.name.islower(): visited.add(self.name)\n",
    "        new_path = path + self.name + \" -> \"\n",
    "        for n in self.neighbours:\n",
    "            sum += n.traverese(deepcopy(visited), new_path, 0)\n",
    "        return sum\n",
    "\n",
    "    def traverese2(self, visited, path, sum):\n",
    "        if self.name == \"end\":\n",
    "            #print(path + \"end\")\n",
    "            return 1\n",
    "        if self.name in visited and 2 in visited.values():\n",
    "            return 0\n",
    "        if self.name.islower():\n",
    "            visited.setdefault(self.name, 0)\n",
    "            visited[self.name] += 1\n",
    "        new_path = path + self.name + \" -> \"\n",
    "        for n in self.neighbours:\n",
    "            if n.name == \"start\":\n",
    "                continue\n",
    "            sum += n.traverese2(deepcopy(visited), new_path, 0)\n",
    "        return sum\n",
    "    \n",
    "    def __str__(self):\n",
    "        ret = '{.name} -> [ '.format(self)\n",
    "        for n in self.neighbours:\n",
    "            ret = ret + n.name + \" \"\n",
    "        return ret + \"]\"\n",
    "    "
   ]
  },
  {
   "cell_type": "code",
   "execution_count": null,
   "metadata": {},
   "outputs": [],
   "source": [
    "start = node('start')\n",
    "end = node('end')\n",
    "A = node('A')\n",
    "b = node('b')\n",
    "c = node('c')\n",
    "d = node('d')\n",
    "start.add_neighbour(A)\n",
    "start.add_neighbour(b)\n",
    "A.add_neighbour(end)\n",
    "A.add_neighbour(c)\n",
    "A.add_neighbour(b)\n",
    "b.add_neighbour(end)\n",
    "b.add_neighbour(d)\n",
    "start.traverese(set(), \"\", 0)\n",
    "start.traverese2({}, \"\", 0)"
   ]
  },
  {
   "cell_type": "code",
   "execution_count": 324,
   "metadata": {},
   "outputs": [
    {
     "data": {
      "text/plain": [
       "96988"
      ]
     },
     "execution_count": 324,
     "metadata": {},
     "output_type": "execute_result"
    }
   ],
   "source": [
    "l = file2list(\"./input.txt\")\n",
    "nodes = {}\n",
    "for line in l:\n",
    "    name1, name2 = line.split(\"-\")\n",
    "    if name1 not in nodes:\n",
    "        nodes[name1] = node(name1)\n",
    "    if name2 not in nodes:\n",
    "        nodes[name2] = node(name2)\n",
    "    nodes[name1].add_neighbour(nodes[name2])\n",
    "nodes['start'].traverese(set(), \"\", 0)\n",
    "nodes['start'].traverese2({}, \"\", 0)"
   ]
  }
 ],
 "metadata": {
  "interpreter": {
   "hash": "e7370f93d1d0cde622a1f8e1c04877d8463912d04d973331ad4851f04de6915a"
  },
  "kernelspec": {
   "display_name": "Python 3.9.7 64-bit",
   "name": "python3"
  },
  "language_info": {
   "codemirror_mode": {
    "name": "ipython",
    "version": 3
   },
   "file_extension": ".py",
   "mimetype": "text/x-python",
   "name": "python",
   "nbconvert_exporter": "python",
   "pygments_lexer": "ipython3",
   "version": "3.9.7"
  },
  "orig_nbformat": 4
 },
 "nbformat": 4,
 "nbformat_minor": 2
}
