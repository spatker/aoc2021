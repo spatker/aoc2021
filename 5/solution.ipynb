{
 "cells": [
  {
   "cell_type": "code",
   "execution_count": 3,
   "metadata": {},
   "outputs": [],
   "source": [
    "import sys, os\n",
    "sys.path.insert(0, os.path.abspath('..'))\n",
    "from utils.util import file2list\n",
    "import numpy as np"
   ]
  },
  {
   "cell_type": "code",
   "execution_count": 73,
   "metadata": {},
   "outputs": [],
   "source": [
    "l = file2list(\"./input.txt\")\n",
    "lines = []\n",
    "for i in l:\n",
    "    f1 = i.split(\" -> \")\n",
    "    line = f1[0].split(\",\") + f1[1].split(\",\")\n",
    "    line = [int(x) for x in line]\n",
    "    lines.append(line)\n",
    "\n",
    "lines = np.array(lines)\n",
    "size = lines.max() + 1"
   ]
  },
  {
   "cell_type": "code",
   "execution_count": 58,
   "metadata": {},
   "outputs": [],
   "source": [
    "def draw_straight(floor, line):\n",
    "    x1, y1, x2, y2 = line\n",
    "    if(x1 == x2):\n",
    "        y1, y2 = (y1,y2) if y1 < y2 else (y2, y1)\n",
    "        floor[y1:y2+1, x1] += 1\n",
    "    elif(y1 == y2):\n",
    "        x1, x2 = (x1,x2) if x1 < x2 else (x2, x1)\n",
    "        floor[y1, x1:x2+1] += 1\n",
    "    "
   ]
  },
  {
   "cell_type": "code",
   "execution_count": 56,
   "metadata": {},
   "outputs": [
    {
     "data": {
      "text/plain": [
       "5"
      ]
     },
     "execution_count": 56,
     "metadata": {},
     "output_type": "execute_result"
    }
   ],
   "source": [
    "floor = np.zeros((size,size),dtype=int)\n",
    "for line in lines:\n",
    "    x1, y1, x2, y2 = line\n",
    "    if(x1 == x2 or y1 == y2):\n",
    "        draw_straight(floor, line)\n",
    "np.count_nonzero(floor > 1)\n"
   ]
  },
  {
   "cell_type": "code",
   "execution_count": 71,
   "metadata": {},
   "outputs": [],
   "source": [
    "def draw_horizontal(floor, line):\n",
    "    x1, y1, x2, y2 = line\n",
    "    if x2 < x1:\n",
    "        x1, y1, x2, y2 = (x2, y2, x1, y1)\n",
    "    direction = y1 < y2\n",
    "    for x in range(x1, x2+1):\n",
    "        i = (x - x1)\n",
    "        y = y1 + i if direction else y1 - i\n",
    "        floor[y,x] += 1"
   ]
  },
  {
   "cell_type": "code",
   "execution_count": 77,
   "metadata": {},
   "outputs": [
    {
     "data": {
      "text/plain": [
       "True"
      ]
     },
     "execution_count": 77,
     "metadata": {},
     "output_type": "execute_result"
    }
   ],
   "source": [
    "floor = np.zeros((size,size),dtype=int)\n",
    "for line in lines:\n",
    "    x1, y1, x2, y2 = line\n",
    "    if(x1 == x2 or y1 == y2):\n",
    "        draw_straight(floor, line)\n",
    "    else:\n",
    "        draw_horizontal(floor, line)\n",
    "np.count_nonzero(floor > 1)\n",
    "import cv2\n",
    "cv2.imwrite(\"floor.png\", floor*100)\n"
   ]
  }
 ],
 "metadata": {
  "interpreter": {
   "hash": "e7370f93d1d0cde622a1f8e1c04877d8463912d04d973331ad4851f04de6915a"
  },
  "kernelspec": {
   "display_name": "Python 3.9.7 64-bit",
   "name": "python3"
  },
  "language_info": {
   "codemirror_mode": {
    "name": "ipython",
    "version": 3
   },
   "file_extension": ".py",
   "mimetype": "text/x-python",
   "name": "python",
   "nbconvert_exporter": "python",
   "pygments_lexer": "ipython3",
   "version": "3.9.7"
  },
  "orig_nbformat": 4
 },
 "nbformat": 4,
 "nbformat_minor": 2
}
