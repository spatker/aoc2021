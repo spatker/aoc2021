{
 "cells": [
  {
   "cell_type": "code",
   "execution_count": 1,
   "metadata": {},
   "outputs": [],
   "source": [
    "import sys, os\n",
    "sys.path.insert(0, os.path.abspath('..'))\n",
    "from utils.util import file2list\n",
    "from copy import deepcopy\n",
    "from collections import Counter\n",
    "from collections import defaultdict"
   ]
  },
  {
   "cell_type": "code",
   "execution_count": 15,
   "metadata": {},
   "outputs": [],
   "source": [
    "l = file2list(\"./input.txt\")\n",
    "polimer = l[0]\n",
    "rules = {}\n",
    "for i in range(2,len(l)):\n",
    "    pair, result = l[i].split(\" -> \")\n",
    "    result = pair[0] + result\n",
    "    rules[pair] = result"
   ]
  },
  {
   "cell_type": "code",
   "execution_count": null,
   "metadata": {},
   "outputs": [],
   "source": [
    "def one_step(p, r):\n",
    "    res = \"\"\n",
    "    for i in range(0, len(p)-1):\n",
    "        c = p[i:i+2]\n",
    "        res += r[c]\n",
    "    return res + p[-1]"
   ]
  },
  {
   "cell_type": "code",
   "execution_count": null,
   "metadata": {},
   "outputs": [],
   "source": [
    "ans1 = polimer\n",
    "for i in range(0, 10):\n",
    "    ans1 = one_step(ans1, rules)\n",
    "counter = Counter(ans1)\n",
    "max(counter.values()) - min(counter.values())"
   ]
  },
  {
   "cell_type": "code",
   "execution_count": 4,
   "metadata": {},
   "outputs": [],
   "source": [
    "def one_step2(s, r):\n",
    "    res = defaultdict(int)\n",
    "    for k,v in s.items():\n",
    "        insert = str(r[k][1])\n",
    "        pair1 = k[0]+insert\n",
    "        pair2 = insert+k[1]\n",
    "        res[pair1] += v\n",
    "        res[pair2] += v\n",
    "    return res\n"
   ]
  },
  {
   "cell_type": "code",
   "execution_count": 16,
   "metadata": {},
   "outputs": [
    {
     "data": {
      "text/plain": [
       "2740"
      ]
     },
     "execution_count": 16,
     "metadata": {},
     "output_type": "execute_result"
    }
   ],
   "source": [
    "ans2 = defaultdict(int)\n",
    "for i in range(0, len(polimer)-1):\n",
    "    c = polimer[i:i+2]\n",
    "    ans2[c] +=1\n",
    "for i in range(0, 40):\n",
    "    ans2 = one_step2(ans2, rules)\n",
    "counter = defaultdict(int)\n",
    "for k,v in ans2.items():\n",
    "    counter[k[0]] += v\n",
    "counter[polimer[-1]]+=1\n",
    "max(counter.values()) - min(counter.values())"
   ]
  }
 ],
 "metadata": {
  "interpreter": {
   "hash": "e7370f93d1d0cde622a1f8e1c04877d8463912d04d973331ad4851f04de6915a"
  },
  "kernelspec": {
   "display_name": "Python 3.9.7 64-bit",
   "name": "python3"
  },
  "language_info": {
   "codemirror_mode": {
    "name": "ipython",
    "version": 3
   },
   "file_extension": ".py",
   "mimetype": "text/x-python",
   "name": "python",
   "nbconvert_exporter": "python",
   "pygments_lexer": "ipython3",
   "version": "3.9.9"
  },
  "orig_nbformat": 4
 },
 "nbformat": 4,
 "nbformat_minor": 2
}
