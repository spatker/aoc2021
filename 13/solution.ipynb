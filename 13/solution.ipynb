{
 "cells": [
  {
   "cell_type": "code",
   "execution_count": 1,
   "metadata": {},
   "outputs": [],
   "source": [
    "import sys, os\n",
    "sys.path.insert(0, os.path.abspath('..'))\n",
    "from utils.util import file2list\n",
    "import numpy as np"
   ]
  },
  {
   "cell_type": "code",
   "execution_count": 16,
   "metadata": {},
   "outputs": [],
   "source": [
    "def printm(matrix):\n",
    "    for row in range(0, len(matrix)):\n",
    "        for elem in matrix[row]:\n",
    "            if elem == 0:\n",
    "                print(\".\", end=\"\")\n",
    "            else:\n",
    "                print(\"#\", end=\"\")\n",
    "        print(\"\")"
   ]
  },
  {
   "cell_type": "code",
   "execution_count": 62,
   "metadata": {},
   "outputs": [],
   "source": [
    "l = file2list(\"./input.txt\")\n",
    "points = []\n",
    "folds = []\n",
    "rows, cols = (0,0)\n",
    "for line in l:\n",
    "    if line == \"\": continue\n",
    "    if line[0] == \"f\":\n",
    "        fold = line.split(\" \")[2].split(\"=\")\n",
    "        folds.append((fold[0], int(fold[1])))\n",
    "    else:\n",
    "        p = line.split(\",\")\n",
    "        points.append((int(p[0]), int(p[1])))\n",
    "        cols = max(cols, int(p[0]))\n",
    "        rows = max(rows, int(p[1]))\n",
    "m = np.zeros((rows+1, cols+1), dtype=int)\n",
    "for p in points:\n",
    "    x,y = p\n",
    "    m[y,x] = 1"
   ]
  },
  {
   "cell_type": "code",
   "execution_count": 59,
   "metadata": {},
   "outputs": [],
   "source": [
    "def foldy(matrix, idx):\n",
    "    for row in range(idx+1, len(matrix)):\n",
    "        row2 = idx - (row - idx)\n",
    "        matrix[row2] += matrix[row]\n",
    "    return matrix[:idx]\n"
   ]
  },
  {
   "cell_type": "code",
   "execution_count": 75,
   "metadata": {},
   "outputs": [],
   "source": [
    "def foldx(matrix, idx):\n",
    "    for col in range(idx+1, matrix.shape[1]):\n",
    "        col2 = idx - (col - idx)\n",
    "        matrix[:, col2] += matrix[:, col]\n",
    "    return matrix[:, :idx]"
   ]
  },
  {
   "cell_type": "code",
   "execution_count": 79,
   "metadata": {},
   "outputs": [
    {
     "data": {
      "text/plain": [
       "669"
      ]
     },
     "execution_count": 79,
     "metadata": {},
     "output_type": "execute_result"
    }
   ],
   "source": [
    "m1 = np.copy(m)\n",
    "m1 = foldx(m1, 655)\n",
    "np.count_nonzero(m1 > 0)"
   ]
  },
  {
   "cell_type": "code",
   "execution_count": 77,
   "metadata": {},
   "outputs": [
    {
     "name": "stdout",
     "output_type": "stream",
     "text": [
      "#..#.####.####.####..##..#..#..##....##.\n",
      "#..#.#....#.......#.#..#.#..#.#..#....#.\n",
      "#..#.###..###....#..#....#..#.#.......#.\n",
      "#..#.#....#.....#...#....#..#.#.......#.\n",
      "#..#.#....#....#....#..#.#..#.#..#.#..#.\n",
      ".##..####.#....####..##...##...##...##..\n"
     ]
    }
   ],
   "source": [
    "m1 = np.copy(m)\n",
    "for fold in folds:\n",
    "    dir, idx = fold\n",
    "    if dir == \"x\":\n",
    "        m1 = foldx(m1, idx)\n",
    "    elif dir == \"y\":\n",
    "        m1 = foldy(m1, idx)\n",
    "printm(m1)"
   ]
  }
 ],
 "metadata": {
  "interpreter": {
   "hash": "e7370f93d1d0cde622a1f8e1c04877d8463912d04d973331ad4851f04de6915a"
  },
  "kernelspec": {
   "display_name": "Python 3.9.7 64-bit",
   "name": "python3"
  },
  "language_info": {
   "codemirror_mode": {
    "name": "ipython",
    "version": 3
   },
   "file_extension": ".py",
   "mimetype": "text/x-python",
   "name": "python",
   "nbconvert_exporter": "python",
   "pygments_lexer": "ipython3",
   "version": "3.9.9"
  },
  "orig_nbformat": 4
 },
 "nbformat": 4,
 "nbformat_minor": 2
}
